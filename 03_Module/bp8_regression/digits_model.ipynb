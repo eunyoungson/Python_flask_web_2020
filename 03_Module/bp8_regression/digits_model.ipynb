{
 "metadata": {
  "language_info": {
   "codemirror_mode": {
    "name": "ipython",
    "version": 3
   },
   "file_extension": ".py",
   "mimetype": "text/x-python",
   "name": "python",
   "nbconvert_exporter": "python",
   "pygments_lexer": "ipython3",
   "version": "3.8.3-final"
  },
  "orig_nbformat": 2,
  "kernelspec": {
   "name": "python3",
   "display_name": "Python 3",
   "language": "python"
  }
 },
 "nbformat": 4,
 "nbformat_minor": 2,
 "cells": [
  {
   "source": [
    "손글씨 모델"
   ],
   "cell_type": "markdown",
   "metadata": {}
  },
  {
   "cell_type": "code",
   "execution_count": 47,
   "metadata": {},
   "outputs": [],
   "source": [
    "import pandas as pd \n",
    "import joblib\n",
    "import matplotlib.pyplot as plt \n",
    "%matplotlib inline"
   ]
  },
  {
   "cell_type": "code",
   "execution_count": 48,
   "metadata": {},
   "outputs": [],
   "source": [
    "from sklearn.preprocessing import StandardScaler, MinMaxScaler\n",
    "from sklearn.linear_model import LogisticRegression\n",
    "from sklearn.svm import SVC\n",
    "from sklearn.ensemble import RandomForestClassifier\n",
    "from sklearn.tree import DecisionTreeClassifier\n",
    "from sklearn.model_selection import GridSearchCV\n",
    "from sklearn.metrics import accuracy_score"
   ]
  },
  {
   "cell_type": "code",
   "execution_count": 49,
   "metadata": {},
   "outputs": [
    {
     "output_type": "execute_result",
     "data": {
      "text/plain": [
       "   pixel_0_0  pixel_0_1  pixel_0_2  pixel_0_3  pixel_0_4  pixel_0_5  \\\n",
       "0        0.0        0.0        6.0       16.0        8.0        0.0   \n",
       "1        0.0        0.0        4.0       16.0       16.0        8.0   \n",
       "2        0.0        0.0        0.0        4.0       15.0       12.0   \n",
       "3        0.0        3.0       12.0       12.0       14.0       15.0   \n",
       "4        0.0        0.0        6.0       11.0       16.0       16.0   \n",
       "\n",
       "   pixel_0_6  pixel_0_7  pixel_1_0  pixel_1_1  ...  pixel_6_7  pixel_7_0  \\\n",
       "0        0.0        0.0        0.0        0.0  ...        3.0        0.0   \n",
       "1        0.0        0.0        0.0        0.0  ...        0.0        0.0   \n",
       "2        0.0        0.0        0.0        0.0  ...        0.0        0.0   \n",
       "3        3.0        0.0        0.0        4.0  ...        0.0        0.0   \n",
       "4        3.0        0.0        0.0        5.0  ...        0.0        0.0   \n",
       "\n",
       "   pixel_7_1  pixel_7_2  pixel_7_3  pixel_7_4  pixel_7_5  pixel_7_6  \\\n",
       "0        0.0        4.0       16.0       16.0       15.0       16.0   \n",
       "1        0.0        6.0       12.0       12.0        2.0        0.0   \n",
       "2        0.0        0.0        3.0       11.0       16.0        9.0   \n",
       "3        2.0       15.0       16.0       14.0        3.0        0.0   \n",
       "4        0.0        5.0       16.0       13.0        0.0        0.0   \n",
       "\n",
       "   pixel_7_7  target  \n",
       "0       16.0       2  \n",
       "1        0.0       1  \n",
       "2        0.0       2  \n",
       "3        0.0       5  \n",
       "4        0.0       5  \n",
       "\n",
       "[5 rows x 65 columns]"
      ],
      "text/html": "<div>\n<style scoped>\n    .dataframe tbody tr th:only-of-type {\n        vertical-align: middle;\n    }\n\n    .dataframe tbody tr th {\n        vertical-align: top;\n    }\n\n    .dataframe thead th {\n        text-align: right;\n    }\n</style>\n<table border=\"1\" class=\"dataframe\">\n  <thead>\n    <tr style=\"text-align: right;\">\n      <th></th>\n      <th>pixel_0_0</th>\n      <th>pixel_0_1</th>\n      <th>pixel_0_2</th>\n      <th>pixel_0_3</th>\n      <th>pixel_0_4</th>\n      <th>pixel_0_5</th>\n      <th>pixel_0_6</th>\n      <th>pixel_0_7</th>\n      <th>pixel_1_0</th>\n      <th>pixel_1_1</th>\n      <th>...</th>\n      <th>pixel_6_7</th>\n      <th>pixel_7_0</th>\n      <th>pixel_7_1</th>\n      <th>pixel_7_2</th>\n      <th>pixel_7_3</th>\n      <th>pixel_7_4</th>\n      <th>pixel_7_5</th>\n      <th>pixel_7_6</th>\n      <th>pixel_7_7</th>\n      <th>target</th>\n    </tr>\n  </thead>\n  <tbody>\n    <tr>\n      <th>0</th>\n      <td>0.0</td>\n      <td>0.0</td>\n      <td>6.0</td>\n      <td>16.0</td>\n      <td>8.0</td>\n      <td>0.0</td>\n      <td>0.0</td>\n      <td>0.0</td>\n      <td>0.0</td>\n      <td>0.0</td>\n      <td>...</td>\n      <td>3.0</td>\n      <td>0.0</td>\n      <td>0.0</td>\n      <td>4.0</td>\n      <td>16.0</td>\n      <td>16.0</td>\n      <td>15.0</td>\n      <td>16.0</td>\n      <td>16.0</td>\n      <td>2</td>\n    </tr>\n    <tr>\n      <th>1</th>\n      <td>0.0</td>\n      <td>0.0</td>\n      <td>4.0</td>\n      <td>16.0</td>\n      <td>16.0</td>\n      <td>8.0</td>\n      <td>0.0</td>\n      <td>0.0</td>\n      <td>0.0</td>\n      <td>0.0</td>\n      <td>...</td>\n      <td>0.0</td>\n      <td>0.0</td>\n      <td>0.0</td>\n      <td>6.0</td>\n      <td>12.0</td>\n      <td>12.0</td>\n      <td>2.0</td>\n      <td>0.0</td>\n      <td>0.0</td>\n      <td>1</td>\n    </tr>\n    <tr>\n      <th>2</th>\n      <td>0.0</td>\n      <td>0.0</td>\n      <td>0.0</td>\n      <td>4.0</td>\n      <td>15.0</td>\n      <td>12.0</td>\n      <td>0.0</td>\n      <td>0.0</td>\n      <td>0.0</td>\n      <td>0.0</td>\n      <td>...</td>\n      <td>0.0</td>\n      <td>0.0</td>\n      <td>0.0</td>\n      <td>0.0</td>\n      <td>3.0</td>\n      <td>11.0</td>\n      <td>16.0</td>\n      <td>9.0</td>\n      <td>0.0</td>\n      <td>2</td>\n    </tr>\n    <tr>\n      <th>3</th>\n      <td>0.0</td>\n      <td>3.0</td>\n      <td>12.0</td>\n      <td>12.0</td>\n      <td>14.0</td>\n      <td>15.0</td>\n      <td>3.0</td>\n      <td>0.0</td>\n      <td>0.0</td>\n      <td>4.0</td>\n      <td>...</td>\n      <td>0.0</td>\n      <td>0.0</td>\n      <td>2.0</td>\n      <td>15.0</td>\n      <td>16.0</td>\n      <td>14.0</td>\n      <td>3.0</td>\n      <td>0.0</td>\n      <td>0.0</td>\n      <td>5</td>\n    </tr>\n    <tr>\n      <th>4</th>\n      <td>0.0</td>\n      <td>0.0</td>\n      <td>6.0</td>\n      <td>11.0</td>\n      <td>16.0</td>\n      <td>16.0</td>\n      <td>3.0</td>\n      <td>0.0</td>\n      <td>0.0</td>\n      <td>5.0</td>\n      <td>...</td>\n      <td>0.0</td>\n      <td>0.0</td>\n      <td>0.0</td>\n      <td>5.0</td>\n      <td>16.0</td>\n      <td>13.0</td>\n      <td>0.0</td>\n      <td>0.0</td>\n      <td>0.0</td>\n      <td>5</td>\n    </tr>\n  </tbody>\n</table>\n<p>5 rows × 65 columns</p>\n</div>"
     },
     "metadata": {},
     "execution_count": 49
    }
   ],
   "source": [
    "df_train = pd.read_csv('../static/data/digits_train.csv')\n",
    "df_train.head()"
   ]
  },
  {
   "cell_type": "code",
   "execution_count": 50,
   "metadata": {},
   "outputs": [],
   "source": [
    "import sklearn.datasets as sd\n",
    "digits = sd.load_digits()"
   ]
  },
  {
   "cell_type": "code",
   "execution_count": 51,
   "metadata": {},
   "outputs": [
    {
     "output_type": "display_data",
     "data": {
      "text/plain": "<Figure size 144x144 with 1 Axes>",
      "image/svg+xml": "<?xml version=\"1.0\" encoding=\"utf-8\" standalone=\"no\"?>\r\n<!DOCTYPE svg PUBLIC \"-//W3C//DTD SVG 1.1//EN\"\r\n  \"http://www.w3.org/Graphics/SVG/1.1/DTD/svg11.dtd\">\r\n<!-- Created with matplotlib (https://matplotlib.org/) -->\r\n<svg height=\"126.62pt\" version=\"1.1\" viewBox=\"0 0 126.62 126.62\" width=\"126.62pt\" xmlns=\"http://www.w3.org/2000/svg\" xmlns:xlink=\"http://www.w3.org/1999/xlink\">\r\n <defs>\r\n  <style type=\"text/css\">\r\n*{stroke-linecap:butt;stroke-linejoin:round;}\r\n  </style>\r\n </defs>\r\n <g id=\"figure_1\">\r\n  <g id=\"patch_1\">\r\n   <path d=\"M 0 126.62 \r\nL 126.62 126.62 \r\nL 126.62 0 \r\nL 0 0 \r\nz\r\n\" style=\"fill:none;\"/>\r\n  </g>\r\n  <g id=\"axes_1\">\r\n   <g id=\"patch_2\">\r\n    <path d=\"M 10.7 115.92 \r\nL 119.42 115.92 \r\nL 119.42 7.2 \r\nL 10.7 7.2 \r\nz\r\n\" style=\"fill:#ffffff;\"/>\r\n   </g>\r\n   <g clip-path=\"url(#p9a75c907af)\">\r\n    <image height=\"109\" id=\"image2aa4fafbe0\" transform=\"scale(1 -1)translate(0 -109)\" width=\"109\" x=\"10.7\" xlink:href=\"data:image/png;base64,\r\niVBORw0KGgoAAAANSUhEUgAAAG0AAABtCAYAAACr+O9WAAAABHNCSVQICAgIfAhkiAAAAfRJREFUeJzt3VGNwkAYReFhswYqAZBQJNQCFrCABWoBCa0EsEAdFAmthK6GuQ/dnOR873+GcDIv02Z62LZtKzt5Pp/R3OPxqJ65XC7RWsMwRHN7+vnvH6B6RgMyGpDRgIwGZDQgowEZDchoQEYDMhqQ0YCMBnRIT/m/32/1TNu2yVLR04FxHKO15nmO5j6fTzSXcKcBGQ3IaEBGAzIakNGAjAZkNCCjARkNyGhARgP6TQeTA+P0Ve3r9Vo903VdtFY61/d99cz9fo/WcqcBGQ3IaEBGAzIakNGAjAZkNCCjARkNyGhARgMyGlB8yr+ua/VM+lp4ommaaC59EpH8Hyl3GpDRgIwGZDQgowEZDchoQEYDMhqQ0YCMBmQ0IKMBxaf8ySn66/WK1kqueE+lTwf25E4DMhqQ0YCMBmQ0IKMBGQ3IaEBGAzIakNGAjAa064HxNE3RWslFM6fTKVorvfV7z1fe3WlARgMyGpDRgIwGZDQgowEZDchoQEYDMhqQ0YCMBhSf8ien2sfjMVrrfD5XzyTXwpdSyvv9juZut1s0l3CnARkNyGhARgMyGpDRgIwGZDQgowEZDchoQEYDig+ME8l3M0vJvp2Z3geyLEs0t+f9I+40IKMBGQ3IaEBGAzIakNGAjAZkNCCjARkNyGhARgP6A7z/Q3LTOA6ZAAAAAElFTkSuQmCC\" y=\"-6.92\"/>\r\n   </g>\r\n   <g id=\"matplotlib.axis_1\"/>\r\n   <g id=\"matplotlib.axis_2\"/>\r\n   <g id=\"patch_3\">\r\n    <path d=\"M 10.7 115.92 \r\nL 10.7 7.2 \r\n\" style=\"fill:none;stroke:#000000;stroke-linecap:square;stroke-linejoin:miter;stroke-width:0.8;\"/>\r\n   </g>\r\n   <g id=\"patch_4\">\r\n    <path d=\"M 119.42 115.92 \r\nL 119.42 7.2 \r\n\" style=\"fill:none;stroke:#000000;stroke-linecap:square;stroke-linejoin:miter;stroke-width:0.8;\"/>\r\n   </g>\r\n   <g id=\"patch_5\">\r\n    <path d=\"M 10.7 115.92 \r\nL 119.42 115.92 \r\n\" style=\"fill:none;stroke:#000000;stroke-linecap:square;stroke-linejoin:miter;stroke-width:0.8;\"/>\r\n   </g>\r\n   <g id=\"patch_6\">\r\n    <path d=\"M 10.7 7.2 \r\nL 119.42 7.2 \r\n\" style=\"fill:none;stroke:#000000;stroke-linecap:square;stroke-linejoin:miter;stroke-width:0.8;\"/>\r\n   </g>\r\n  </g>\r\n </g>\r\n <defs>\r\n  <clipPath id=\"p9a75c907af\">\r\n   <rect height=\"108.72\" width=\"108.72\" x=\"10.7\" y=\"7.2\"/>\r\n  </clipPath>\r\n </defs>\r\n</svg>\r\n",
      "image/png": "[encoded data removed]"
     },
     "metadata": {}
    }
   ],
   "source": [
    "#이미지 보여주는 함수 plt.imshow\n",
    "\n",
    "plt.figure(figsize=(2,2))\n",
    "plt.imshow(digits.images[0], cmap=plt.cm.binary, interpolation='nearest')\n",
    "plt.xticks([]); plt.yticks([])\n",
    "plt.show()"
   ]
  },
  {
   "cell_type": "code",
   "execution_count": 52,
   "metadata": {},
   "outputs": [
    {
     "output_type": "display_data",
     "data": {
      "text/plain": "<Figure size 864x144 with 8 Axes>",
      "image/svg+xml": "<?xml version=\"1.0\" encoding=\"utf-8\" standalone=\"no\"?>\r\n<!DOCTYPE svg PUBLIC \"-//W3C//DTD SVG 1.1//EN\"\r\n  \"http://www.w3.org/Graphics/SVG/1.1/DTD/svg11.dtd\">\r\n<!-- Created with matplotlib (https://matplotlib.org/) -->\r\n<svg height=\"121.373054pt\" version=\"1.1\" viewBox=\"0 0 881.9 121.373054\" width=\"881.9pt\" xmlns=\"http://www.w3.org/2000/svg\" xmlns:xlink=\"http://www.w3.org/1999/xlink\">\r\n <defs>\r\n  <style type=\"text/css\">\r\n*{stroke-linecap:butt;stroke-linejoin:round;}\r\n  </style>\r\n </defs>\r\n <g id=\"figure_1\">\r\n  <g id=\"patch_1\">\r\n   <path d=\"M 0 121.373054 \r\nL 881.9 121.373054 \r\nL 881.9 0 \r\nL 0 0 \r\nz\r\n\" style=\"fill:none;\"/>\r\n  </g>\r\n  <g id=\"axes_1\">\r\n   <g id=\"patch_2\">\r\n    <path d=\"M 10.7 110.673054 \r\nL 114.173054 110.673054 \r\nL 114.173054 7.2 \r\nL 10.7 7.2 \r\nz\r\n\" style=\"fill:#ffffff;\"/>\r\n   </g>\r\n   <g clip-path=\"url(#p524db94436)\">\r\n    <image height=\"104\" id=\"image85d4f2e9e5\" transform=\"scale(1 -1)translate(0 -104)\" width=\"104\" x=\"10.7\" xlink:href=\"data:image/png;base64,\r\niVBORw0KGgoAAAANSUhEUgAAAGgAAABoCAYAAAAdHLWhAAAABHNCSVQICAgIfAhkiAAAAd1JREFUeJzt3UFxwlAYReHSqQEkABJAAhawgAUsEAtISCSAhcRBIgEkpA4689/F61mcb38H2jNv8yZNN+u6rl8NPB6P8uZ+v5c3p9OpvOn7vrxp5fu/v4D+ZiA4A8EZCM5AcAaCMxCcgeAMBGcgOAPBGQhuk1yWLstS/qDj8VjeJBeswzCUN/M8lzfjOJY3CU8QnIHgDARnIDgDwRkIzkBwBoIzEJyB4AwEZyC4n2SUXJYmT3xeLpfy5nw+N9l0XVfe3G638sYTBGcgOAPBGQjOQHAGgjMQnIHgDARnIDgDwRkILros/Xw+5U3yZGliu92WN8lFbvI7SHiC4AwEZyA4A8EZCM5AcAaCMxCcgeAMBGcgOAPBRZelyYXk8/ksb5J3liaSn6cVTxCcgeAMBGcgOAPBGQjOQHAGgjMQnIHgDARnILhml6XTNJU3yZ/77/f78iZ5/2irJ2U9QXAGgjMQnIHgDARnIDgDwRkIzkBwBoIzEJyB4KLL0uSicLfblTeHw6G8Sd5z+nq9ypvr9VreJDxBcAaCMxCcgeAMBGcgOAPBGQjOQHAGgjMQnIHgosvSRKt/iJQ89fp+v5t8TsITBGcgOAPBGQjOQHAGgjMQnIHgDARnIDgDwRkI7hcl50NodcMo0wAAAABJRU5ErkJggg==\" y=\"-6.673054\"/>\r\n   </g>\r\n   <g id=\"matplotlib.axis_1\"/>\r\n   <g id=\"matplotlib.axis_2\"/>\r\n   <g id=\"patch_3\">\r\n    <path d=\"M 10.7 110.673054 \r\nL 10.7 7.2 \r\n\" style=\"fill:none;stroke:#000000;stroke-linecap:square;stroke-linejoin:miter;stroke-width:0.8;\"/>\r\n   </g>\r\n   <g id=\"patch_4\">\r\n    <path d=\"M 114.173054 110.673054 \r\nL 114.173054 7.2 \r\n\" style=\"fill:none;stroke:#000000;stroke-linecap:square;stroke-linejoin:miter;stroke-width:0.8;\"/>\r\n   </g>\r\n   <g id=\"patch_5\">\r\n    <path d=\"M 10.7 110.673054 \r\nL 114.173054 110.673054 \r\n\" style=\"fill:none;stroke:#000000;stroke-linecap:square;stroke-linejoin:miter;stroke-width:0.8;\"/>\r\n   </g>\r\n   <g id=\"patch_6\">\r\n    <path d=\"M 10.7 7.2 \r\nL 114.173054 7.2 \r\n\" style=\"fill:none;stroke:#000000;stroke-linecap:square;stroke-linejoin:miter;stroke-width:0.8;\"/>\r\n   </g>\r\n  </g>\r\n  <g id=\"axes_2\">\r\n   <g id=\"patch_7\">\r\n    <path d=\"M 119.346707 110.673054 \r\nL 222.81976 110.673054 \r\nL 222.81976 7.2 \r\nL 119.346707 7.2 \r\nz\r\n\" style=\"fill:#ffffff;\"/>\r\n   </g>\r\n   <g clip-path=\"url(#p3abd208957)\">\r\n    <image height=\"104\" id=\"imageec3d5657c2\" transform=\"scale(1 -1)translate(0 -104)\" width=\"104\" x=\"119.346707\" xlink:href=\"data:image/png;base64,\r\niVBORw0KGgoAAAANSUhEUgAAAGgAAABoCAYAAAAdHLWhAAAABHNCSVQICAgIfAhkiAAAAddJREFUeJzt3UGNg1AURmGYzJ5KKAqwgANw0DpoJdQBFpCAA7CAAxzQKmAcTHLvgp7F+fZ/mOTkbV4oUx7HcRRQ27aFN3VdhzfzPIc3bduGNxk/pzxFaQaCMxCcgeAMBGcgOAPBGQjOQHAGgjMQnIHgfr/9B/zn/X6HN1VVhTfjOIY3XpaqKAoD4RkIzkBwBoIzEJyB4AwEZyA4A8EZCM5AcGXmzdJlWcIP6vs+vPl8PuFN0zThzbqu4c2+7+HN5XIJbzxBcAaCMxCcgeAMBGcgOAPBGQjOQHAGgjMQnIHgUm+WZi4xM5vb7RbeZN4SLcsyvJmmKby53+/hjScIzkBwBoIzEJyB4AwEZyA4A8EZCM5AcAaCMxBc6rK067rwZhiG8Ob1eoU3GY/HI7zJfE81wxMEZyA4A8EZCM5AcAaCMxCcgeAMBGcgOAPBGQgu9TP8jMz3RzPfBX0+n6c8J+N6vYY3niA4A8EZCM5AcAaCMxCcgeAMBGcgOAPBGQjOQHCn/YOnzPc6Mz9bz7zxmbnEPIsnCM5AcAaCMxCcgeAMBGcgOAPBGQjOQHAGgjMQ3GmXpRmZy9LMhswTBGcgOAPBGQjOQHAGgjMQnIHgDARnIDgDwRkI7g/tykTWcj+zWAAAAABJRU5ErkJggg==\" y=\"-6.673054\"/>\r\n   </g>\r\n   <g id=\"matplotlib.axis_3\"/>\r\n   <g id=\"matplotlib.axis_4\"/>\r\n   <g id=\"patch_8\">\r\n    <path d=\"M 119.346707 110.673054 \r\nL 119.346707 7.2 \r\n\" style=\"fill:none;stroke:#000000;stroke-linecap:square;stroke-linejoin:miter;stroke-width:0.8;\"/>\r\n   </g>\r\n   <g id=\"patch_9\">\r\n    <path d=\"M 222.81976 110.673054 \r\nL 222.81976 7.2 \r\n\" style=\"fill:none;stroke:#000000;stroke-linecap:square;stroke-linejoin:miter;stroke-width:0.8;\"/>\r\n   </g>\r\n   <g id=\"patch_10\">\r\n    <path d=\"M 119.346707 110.673054 \r\nL 222.81976 110.673054 \r\n\" style=\"fill:none;stroke:#000000;stroke-linecap:square;stroke-linejoin:miter;stroke-width:0.8;\"/>\r\n   </g>\r\n   <g id=\"patch_11\">\r\n    <path d=\"M 119.346707 7.2 \r\nL 222.81976 7.2 \r\n\" style=\"fill:none;stroke:#000000;stroke-linecap:square;stroke-linejoin:miter;stroke-width:0.8;\"/>\r\n   </g>\r\n  </g>\r\n  <g id=\"axes_3\">\r\n   <g id=\"patch_12\">\r\n    <path d=\"M 227.993413 110.673054 \r\nL 331.466467 110.673054 \r\nL 331.466467 7.2 \r\nL 227.993413 7.2 \r\nz\r\n\" style=\"fill:#ffffff;\"/>\r\n   </g>\r\n   <g clip-path=\"url(#pa1f03d0d02)\">\r\n    <image height=\"104\" id=\"imageeceeaf91b9\" transform=\"scale(1 -1)translate(0 -104)\" width=\"104\" x=\"227.993413\" xlink:href=\"data:image/png;base64,\r\niVBORw0KGgoAAAANSUhEUgAAAGgAAABoCAYAAAAdHLWhAAAABHNCSVQICAgIfAhkiAAAAd9JREFUeJzt3UGNwlAYReFhMnuQgANAAdQBDkACDkACErBQB3XSSqAKOgZm89+Ql5PJ+fY3kJx08/IKq2VZlq8GzudzedP3fXmzXq/Lm9PpVN68Xq/yZrPZlDff5YWaMhCcgeAMBGcgOAPBGQjOQHAGgjMQnIHgDAS3Sg5L3+93+YO22215M01Tk83hcChv7vd7efN4PMobnyA4A8EZCM5AcAaCMxCcgeAMBGcgOAPBGQjOQHA/ySg5kJznubx5Pp/lTfLddrtdeXO9XsubhE8QnIHgDARnIDgDwRkIzkBwBoIzEJyB4AwEZyC46GZpYhiG8qbrus9/kT+M41jeJDdlEz5BcAaCMxCcgeAMBGcgOAPBGQjOQHAGgjMQnIHgopulieT3OhPH47G8SX6zNDn8TQ5YfYLgDARnIDgDwRkIzkBwBoIzEJyB4AwEZyA4A8E1OyxN/hDpcrk0+ZzkIDd53d/D0n/IQHAGgjMQnIHgDARnIDgDwRkIzkBwBoIzEFyz1/CT25vJgWQiOcRMbpYmfILgDARnIDgDwRkIzkBwBoIzEJyB4AwEZyA4A8E1u1m63+/Lm+SwNPnjpdvtVt604hMEZyA4A8EZCM5AcAaCMxCcgeAMBGcgOAPBGQjuF53TTC+FlZ3SAAAAAElFTkSuQmCC\" y=\"-6.673054\"/>\r\n   </g>\r\n   <g id=\"matplotlib.axis_5\"/>\r\n   <g id=\"matplotlib.axis_6\"/>\r\n   <g id=\"patch_13\">\r\n    <path d=\"M 227.993413 110.673054 \r\nL 227.993413 7.2 \r\n\" style=\"fill:none;stroke:#000000;stroke-linecap:square;stroke-linejoin:miter;stroke-width:0.8;\"/>\r\n   </g>\r\n   <g id=\"patch_14\">\r\n    <path d=\"M 331.466467 110.673054 \r\nL 331.466467 7.2 \r\n\" style=\"fill:none;stroke:#000000;stroke-linecap:square;stroke-linejoin:miter;stroke-width:0.8;\"/>\r\n   </g>\r\n   <g id=\"patch_15\">\r\n    <path d=\"M 227.993413 110.673054 \r\nL 331.466467 110.673054 \r\n\" style=\"fill:none;stroke:#000000;stroke-linecap:square;stroke-linejoin:miter;stroke-width:0.8;\"/>\r\n   </g>\r\n   <g id=\"patch_16\">\r\n    <path d=\"M 227.993413 7.2 \r\nL 331.466467 7.2 \r\n\" style=\"fill:none;stroke:#000000;stroke-linecap:square;stroke-linejoin:miter;stroke-width:0.8;\"/>\r\n   </g>\r\n  </g>\r\n  <g id=\"axes_4\">\r\n   <g id=\"patch_17\">\r\n    <path d=\"M 336.64012 110.673054 \r\nL 440.113174 110.673054 \r\nL 440.113174 7.2 \r\nL 336.64012 7.2 \r\nz\r\n\" style=\"fill:#ffffff;\"/>\r\n   </g>\r\n   <g clip-path=\"url(#pd5f54e0931)\">\r\n    <image height=\"104\" id=\"image8761a24c8f\" transform=\"scale(1 -1)translate(0 -104)\" width=\"104\" x=\"336.64012\" xlink:href=\"data:image/png;base64,\r\niVBORw0KGgoAAAANSUhEUgAAAGgAAABoCAYAAAAdHLWhAAAABHNCSVQICAgIfAhkiAAAAcFJREFUeJzt3UGRg0AUBuFlawXgACQgCQmREAdYQMLgAAlIiIPggNXw/sNUH/q7vwqprrlMDczwPM/z08F1XeWZ9/tdnlmWpTzTWivPjONYnkn+z295Ql0ZCM5AcAaCMxCcgeAMBGcgOAPBGQjOQHAGgvvr9UP7vpdnjuMoz5znWZ5Z17U8k2yWzvNcnnEFwRkIzkBwBoIzEJyB4AwEZyA4A8EZCM5AcAaCG3qdLE0kG6yv16s8c993eaYXVxCcgeAMBGcgOAPBGQjOQHAGgjMQnIHgDARnILhum6Wfz6c8k5zEHIahPPP9fsszycnShCsIzkBwBoIzEJyB4AwEZyA4A8EZCM5AcAaCMxBc9Bp+svGZfK8zOVk6TVN5ptfGZ8IVBGcgOAPBGQjOQHAGgjMQnIHgDARnIDgDwRkILtosTU58Jhc8Ja/HJ89G5gqCMxCcgeAMBGcgOAPBGQjOQHAGgjMQnIHgDATX7YKn5DRqcrN98s1SMlcQnIHgDARnIDgDwRkIzkBwBoIzEJyB4AwEZyC4bt8sTW6237atPNNaK8/4Gr5iBoIzEJyB4AwEZyA4A8EZCM5AcAaCMxCcgeD+AXa+Q/VGGsgAAAAAAElFTkSuQmCC\" y=\"-6.673054\"/>\r\n   </g>\r\n   <g id=\"matplotlib.axis_7\"/>\r\n   <g id=\"matplotlib.axis_8\"/>\r\n   <g id=\"patch_18\">\r\n    <path d=\"M 336.64012 110.673054 \r\nL 336.64012 7.2 \r\n\" style=\"fill:none;stroke:#000000;stroke-linecap:square;stroke-linejoin:miter;stroke-width:0.8;\"/>\r\n   </g>\r\n   <g id=\"patch_19\">\r\n    <path d=\"M 440.113174 110.673054 \r\nL 440.113174 7.2 \r\n\" style=\"fill:none;stroke:#000000;stroke-linecap:square;stroke-linejoin:miter;stroke-width:0.8;\"/>\r\n   </g>\r\n   <g id=\"patch_20\">\r\n    <path d=\"M 336.64012 110.673054 \r\nL 440.113174 110.673054 \r\n\" style=\"fill:none;stroke:#000000;stroke-linecap:square;stroke-linejoin:miter;stroke-width:0.8;\"/>\r\n   </g>\r\n   <g id=\"patch_21\">\r\n    <path d=\"M 336.64012 7.2 \r\nL 440.113174 7.2 \r\n\" style=\"fill:none;stroke:#000000;stroke-linecap:square;stroke-linejoin:miter;stroke-width:0.8;\"/>\r\n   </g>\r\n  </g>\r\n  <g id=\"axes_5\">\r\n   <g id=\"patch_22\">\r\n    <path d=\"M 445.286826 110.673054 \r\nL 548.75988 110.673054 \r\nL 548.75988 7.2 \r\nL 445.286826 7.2 \r\nz\r\n\" style=\"fill:#ffffff;\"/>\r\n   </g>\r\n   <g clip-path=\"url(#pce73781e8a)\">\r\n    <image height=\"104\" id=\"imagea05d78b296\" transform=\"scale(1 -1)translate(0 -104)\" width=\"104\" x=\"445.286826\" xlink:href=\"data:image/png;base64,\r\niVBORw0KGgoAAAANSUhEUgAAAGgAAABoCAYAAAAdHLWhAAAABHNCSVQICAgIfAhkiAAAAcJJREFUeJzt3cFtg1AQBuE4SgF0YFMBlEAHphTcgd0BpVAKHUAJUAEpIKddKas5zHf/5Uijd0EPcruu6/qCmuc5vHm/3+HNeZ7hzfP5DG+WZQlvvsMLlTIQnIHgDARnIDgDwRkIzkBwBoIzEJyB4AwEd6t6WLqua3gzjmPJZpqm8KZt2/Bm27bwxhMEZyA4A8EZCM5AcAaCMxCcgeAMBGcgOAPBGQjup+qHhmEIbzI3PjMyN1jv93t483g8whtPEJyB4AwEZyA4A8EZCM5AcAaCMxCcgeAMBGcguLKbpZkHkq/X6x/+kr+6rgtvPp9PeJN5dd8TBGcgOAPBGQjOQHAGgjMQnIHgDARnIDgDwRkIruxmadM0Jb+TedU9c+OziicIzkBwBoIzEJyB4AwEZyA4A8EZCM5AcAaCMxBc2cPSvu9LfifzT5Qy3yyt4gmCMxCcgeAMBGcgOAPBGQjOQHAGgjMQnIHgDARX9hp+RuY7p/u+l2yqeILgDARnIDgDwRkIzkBwBoIzEJyB4AwEZyA4A8GV3SzNyDwszXwb9TiO8KbqswKeIDgDwRkIzkBwBoIzEJyB4AwEZyA4A8EZCM5AcL8ZKkDy+9/cNwAAAABJRU5ErkJggg==\" y=\"-6.673054\"/>\r\n   </g>\r\n   <g id=\"matplotlib.axis_9\"/>\r\n   <g id=\"matplotlib.axis_10\"/>\r\n   <g id=\"patch_23\">\r\n    <path d=\"M 445.286826 110.673054 \r\nL 445.286826 7.2 \r\n\" style=\"fill:none;stroke:#000000;stroke-linecap:square;stroke-linejoin:miter;stroke-width:0.8;\"/>\r\n   </g>\r\n   <g id=\"patch_24\">\r\n    <path d=\"M 548.75988 110.673054 \r\nL 548.75988 7.2 \r\n\" style=\"fill:none;stroke:#000000;stroke-linecap:square;stroke-linejoin:miter;stroke-width:0.8;\"/>\r\n   </g>\r\n   <g id=\"patch_25\">\r\n    <path d=\"M 445.286826 110.673054 \r\nL 548.75988 110.673054 \r\n\" style=\"fill:none;stroke:#000000;stroke-linecap:square;stroke-linejoin:miter;stroke-width:0.8;\"/>\r\n   </g>\r\n   <g id=\"patch_26\">\r\n    <path d=\"M 445.286826 7.2 \r\nL 548.75988 7.2 \r\n\" style=\"fill:none;stroke:#000000;stroke-linecap:square;stroke-linejoin:miter;stroke-width:0.8;\"/>\r\n   </g>\r\n  </g>\r\n  <g id=\"axes_6\">\r\n   <g id=\"patch_27\">\r\n    <path d=\"M 553.933533 110.673054 \r\nL 657.406587 110.673054 \r\nL 657.406587 7.2 \r\nL 553.933533 7.2 \r\nz\r\n\" style=\"fill:#ffffff;\"/>\r\n   </g>\r\n   <g clip-path=\"url(#pc95a50d039)\">\r\n    <image height=\"104\" id=\"imagedc8a28781d\" transform=\"scale(1 -1)translate(0 -104)\" width=\"104\" x=\"553.933533\" xlink:href=\"data:image/png;base64,\r\niVBORw0KGgoAAAANSUhEUgAAAGgAAABoCAYAAAAdHLWhAAAABHNCSVQICAgIfAhkiAAAAdFJREFUeJzt3UGRg0AQQFHYigAcEAlImDhAAhIiAQlYwQEScAASiALWwF66Kzv1D//duyD1ay5TnaS97/tuKjjPMzwzTVN45rqu8MyyLOGZUkp4JuOnylOUZiA4A8EZCM5AcAaCMxCcgeAMBGcgOAPBGQjuUetBmQvJzAXrOI7hmcyl7L7v4Zmu68IzniA4A8EZCM5AcAaCMxCcgeAMBGcgOAPBGQjOQHBtrc3SzEVh5hIzcyk7DEN45v1+h2cyn8cTBGcgOAPBGQjOQHAGgjMQnIHgDARnIDgDwRkIrtpm6efzCc/M8/z9F/lD5iI3s/Wa4QmCMxCcgeAMBGcgOAPBGQjOQHAGgjMQnIHgDASX2izdti38oNfrFZ6ptPTatG0bnjmOIzzzfD7DM54gOAPBGQjOQHAGgjMQnIHgDARnIDgDwRkIzkBw1TZLMzJfdc9so/Z9H56pxRMEZyA4A8EZCM5AcAaCMxCcgeAMBGcgOAPBGQiu2m+WZv54aV3Xf3iT73CzVE3TGAjPQHAGgjMQnIHgDARnIDgDwRkIzkBwBoKrtlma2fjM/C5o5kKylFLlORmeIDgDwRkIzkBwBoIzEJyB4AwEZyA4A8EZCM5AcL9wPEe1Pyte5AAAAABJRU5ErkJggg==\" y=\"-6.673054\"/>\r\n   </g>\r\n   <g id=\"matplotlib.axis_11\"/>\r\n   <g id=\"matplotlib.axis_12\"/>\r\n   <g id=\"patch_28\">\r\n    <path d=\"M 553.933533 110.673054 \r\nL 553.933533 7.2 \r\n\" style=\"fill:none;stroke:#000000;stroke-linecap:square;stroke-linejoin:miter;stroke-width:0.8;\"/>\r\n   </g>\r\n   <g id=\"patch_29\">\r\n    <path d=\"M 657.406587 110.673054 \r\nL 657.406587 7.2 \r\n\" style=\"fill:none;stroke:#000000;stroke-linecap:square;stroke-linejoin:miter;stroke-width:0.8;\"/>\r\n   </g>\r\n   <g id=\"patch_30\">\r\n    <path d=\"M 553.933533 110.673054 \r\nL 657.406587 110.673054 \r\n\" style=\"fill:none;stroke:#000000;stroke-linecap:square;stroke-linejoin:miter;stroke-width:0.8;\"/>\r\n   </g>\r\n   <g id=\"patch_31\">\r\n    <path d=\"M 553.933533 7.2 \r\nL 657.406587 7.2 \r\n\" style=\"fill:none;stroke:#000000;stroke-linecap:square;stroke-linejoin:miter;stroke-width:0.8;\"/>\r\n   </g>\r\n  </g>\r\n  <g id=\"axes_7\">\r\n   <g id=\"patch_32\">\r\n    <path d=\"M 662.58024 110.673054 \r\nL 766.053293 110.673054 \r\nL 766.053293 7.2 \r\nL 662.58024 7.2 \r\nz\r\n\" style=\"fill:#ffffff;\"/>\r\n   </g>\r\n   <g clip-path=\"url(#p0c4ff6b2cd)\">\r\n    <image height=\"104\" id=\"image4c37a5a14a\" transform=\"scale(1 -1)translate(0 -104)\" width=\"104\" x=\"662.58024\" xlink:href=\"data:image/png;base64,\r\niVBORw0KGgoAAAANSUhEUgAAAGgAAABoCAYAAAAdHLWhAAAABHNCSVQICAgIfAhkiAAAAbRJREFUeJzt3UGtg0AURmF4qQAkIKESQAngBAfgABwQHFRCcYIDnoZ7F5OT5nz7P016MptJofXzPE/1Q7quK7KZ5zm8yfgr8ilKMxCcgeAMBGcgOAPBGQjOQHAGgjMQnIHgDARX/9pl6b7v4c00TeFNqa/NEwRnIDgDwRkIzkBwBoIzEJyB4AwEZyA4A8EZCO5V6oPO8wxvjuMIb77fb3hD5gmCMxCcgeAMBGcgOAPBGQjOQHAGgjMQnIHgDASXuiwt9evNYRjCm7Ztw5vrusKbUjxBcAaCMxCcgeAMBGcgOAPBGQjOQHAGgjMQnIHgij2G/36/w5vMu0TXdQ1v6roOb7ZtC2/GcQxvPEFwBoIzEJyB4AwEZyA4A8EZCM5AcAaCMxCcgeCKXZZ+Pp/wpu/78GZZlvDmvu/wxj94UlVVBsIzEJyB4AwEZyA4A8EZCM5AcAaCMxCcgeDQf/CUedw/c4mZec9p0zThTYYnCM5AcAaCMxCcgeAMBGcgOAPBGQjOQHAGgjMQHPqyNCPz6H7mUjbzbtQMTxCcgeAMBGcgOAPBGQjOQHAGgjMQnIHgDARnILh/kMVHOmYERKYAAAAASUVORK5CYII=\" y=\"-6.673054\"/>\r\n   </g>\r\n   <g id=\"matplotlib.axis_13\"/>\r\n   <g id=\"matplotlib.axis_14\"/>\r\n   <g id=\"patch_33\">\r\n    <path d=\"M 662.58024 110.673054 \r\nL 662.58024 7.2 \r\n\" style=\"fill:none;stroke:#000000;stroke-linecap:square;stroke-linejoin:miter;stroke-width:0.8;\"/>\r\n   </g>\r\n   <g id=\"patch_34\">\r\n    <path d=\"M 766.053293 110.673054 \r\nL 766.053293 7.2 \r\n\" style=\"fill:none;stroke:#000000;stroke-linecap:square;stroke-linejoin:miter;stroke-width:0.8;\"/>\r\n   </g>\r\n   <g id=\"patch_35\">\r\n    <path d=\"M 662.58024 110.673054 \r\nL 766.053293 110.673054 \r\n\" style=\"fill:none;stroke:#000000;stroke-linecap:square;stroke-linejoin:miter;stroke-width:0.8;\"/>\r\n   </g>\r\n   <g id=\"patch_36\">\r\n    <path d=\"M 662.58024 7.2 \r\nL 766.053293 7.2 \r\n\" style=\"fill:none;stroke:#000000;stroke-linecap:square;stroke-linejoin:miter;stroke-width:0.8;\"/>\r\n   </g>\r\n  </g>\r\n  <g id=\"axes_8\">\r\n   <g id=\"patch_37\">\r\n    <path d=\"M 771.226946 110.673054 \r\nL 874.7 110.673054 \r\nL 874.7 7.2 \r\nL 771.226946 7.2 \r\nz\r\n\" style=\"fill:#ffffff;\"/>\r\n   </g>\r\n   <g clip-path=\"url(#p670b88f295)\">\r\n    <image height=\"104\" id=\"imageb3caf44c78\" transform=\"scale(1 -1)translate(0 -104)\" width=\"104\" x=\"771.226946\" xlink:href=\"data:image/png;base64,\r\niVBORw0KGgoAAAANSUhEUgAAAGgAAABoCAYAAAAdHLWhAAAABHNCSVQICAgIfAhkiAAAAbpJREFUeJzt3UGNhEAQRuGdzQpAAhLAARKQgISWgBSkIAEJSMABa2Av/WdTeYf33SuQvPSl0sN83vd9vwrs+949cxxH90xrrXtm27bumWEYumcS3yVPUcxAcAaCMxCcgeAMBGcgOAPBGQjOQHAGgjMQ3KdqWTqOY/dMsmBNlqXrunbPJIvchCcIzkBwBoIzEJyB4AwEZyA4A8EZCM5AcAaCMxDcTzL0PE/JzDRN3TPJLdHk3ap4guAMBGcgOAPBGQjOQHAGgjMQnIHgDARnIDgDwUXL0sSyLN0z8zz//4v8oehybcQTBGcgOAPBGQjOQHAGgjMQnIHgDARnIDgDwRkIruxn+InkZul9390zyScCruvqnkl4guAMBGcgOAPBGQjOQHAGgjMQnIHgDARnIDgDwZXdLE2+P1q1xEyec55n90xyu9YTBGcgOAPBGQjOQHAGgjMQnIHgDARnIDgDwRkIrmxZmtz4TBaSyW3U5J/tk+ckPEFwBoIzEJyB4AwEZyA4A8EZCM5AcAaCMxCcgeDKlqWJ5CZma63kOVU8QXAGgjMQnIHgDARnIDgDwRkIzkBwBoIzEJyB4H4Bi/E97PFAe1kAAAAASUVORK5CYII=\" y=\"-6.673054\"/>\r\n   </g>\r\n   <g id=\"matplotlib.axis_15\"/>\r\n   <g id=\"matplotlib.axis_16\"/>\r\n   <g id=\"patch_38\">\r\n    <path d=\"M 771.226946 110.673054 \r\nL 771.226946 7.2 \r\n\" style=\"fill:none;stroke:#000000;stroke-linecap:square;stroke-linejoin:miter;stroke-width:0.8;\"/>\r\n   </g>\r\n   <g id=\"patch_39\">\r\n    <path d=\"M 874.7 110.673054 \r\nL 874.7 7.2 \r\n\" style=\"fill:none;stroke:#000000;stroke-linecap:square;stroke-linejoin:miter;stroke-width:0.8;\"/>\r\n   </g>\r\n   <g id=\"patch_40\">\r\n    <path d=\"M 771.226946 110.673054 \r\nL 874.7 110.673054 \r\n\" style=\"fill:none;stroke:#000000;stroke-linecap:square;stroke-linejoin:miter;stroke-width:0.8;\"/>\r\n   </g>\r\n   <g id=\"patch_41\">\r\n    <path d=\"M 771.226946 7.2 \r\nL 874.7 7.2 \r\n\" style=\"fill:none;stroke:#000000;stroke-linecap:square;stroke-linejoin:miter;stroke-width:0.8;\"/>\r\n   </g>\r\n  </g>\r\n </g>\r\n <defs>\r\n  <clipPath id=\"p524db94436\">\r\n   <rect height=\"103.473054\" width=\"103.473054\" x=\"10.7\" y=\"7.2\"/>\r\n  </clipPath>\r\n  <clipPath id=\"p3abd208957\">\r\n   <rect height=\"103.473054\" width=\"103.473054\" x=\"119.346707\" y=\"7.2\"/>\r\n  </clipPath>\r\n  <clipPath id=\"pa1f03d0d02\">\r\n   <rect height=\"103.473054\" width=\"103.473054\" x=\"227.993413\" y=\"7.2\"/>\r\n  </clipPath>\r\n  <clipPath id=\"pd5f54e0931\">\r\n   <rect height=\"103.473054\" width=\"103.473054\" x=\"336.64012\" y=\"7.2\"/>\r\n  </clipPath>\r\n  <clipPath id=\"pce73781e8a\">\r\n   <rect height=\"103.473054\" width=\"103.473054\" x=\"445.286826\" y=\"7.2\"/>\r\n  </clipPath>\r\n  <clipPath id=\"pc95a50d039\">\r\n   <rect height=\"103.473054\" width=\"103.473054\" x=\"553.933533\" y=\"7.2\"/>\r\n  </clipPath>\r\n  <clipPath id=\"p0c4ff6b2cd\">\r\n   <rect height=\"103.473054\" width=\"103.473054\" x=\"662.58024\" y=\"7.2\"/>\r\n  </clipPath>\r\n  <clipPath id=\"p670b88f295\">\r\n   <rect height=\"103.473054\" width=\"103.473054\" x=\"771.226946\" y=\"7.2\"/>\r\n  </clipPath>\r\n </defs>\r\n</svg>\r\n",
      "image/png": "[encoded data removed]"
     },
     "metadata": {}
    }
   ],
   "source": [
    "#그래프 보여주는 함수(https://wikidocs.net/4761)\n",
    "#ax1 = fig.add_subplot(2, 1, 1) : (2, 1, 1)은 2x1(행x열),세 번째 인자 1은 생성된 두 개의 subplot 중 첫 번째 subplot\n",
    "\n",
    "fig = plt.figure(figsize=(12, 2))  \n",
    "fig.subplots_adjust(left=0, right=1, bottom=0, top=1, hspace=0.05, wspace=0.05)\n",
    "\n",
    "for i in range(8):\n",
    "    ax = fig.add_subplot(1, 8, i + 1, xticks=[], yticks=[])\n",
    "    ax.imshow(digits.images[i*4], cmap=plt.cm.binary, interpolation='nearest')\n",
    "    # label the image with the target value\n",
    "    # ax.text(0, 7, str(digits.target[i*3]))"
   ]
  },
  {
   "cell_type": "code",
   "execution_count": 53,
   "metadata": {},
   "outputs": [
    {
     "output_type": "execute_result",
     "data": {
      "text/plain": [
       "   index  pixel_0_0  pixel_0_1  pixel_0_2  pixel_0_3  pixel_0_4  pixel_0_5  \\\n",
       "0    667        0.0        0.0        4.0       16.0       15.0        4.0   \n",
       "1    971        0.0        0.0        5.0       15.0       14.0        3.0   \n",
       "2    914        0.0        0.0        7.0       14.0        9.0        0.0   \n",
       "3   1702        0.0        0.0        7.0       11.0       13.0        8.0   \n",
       "4   1356        0.0        0.0        0.0       12.0       14.0        5.0   \n",
       "\n",
       "   pixel_0_6  pixel_0_7  pixel_1_0  ...  pixel_6_7  pixel_7_0  pixel_7_1  \\\n",
       "0        0.0        0.0        0.0  ...        0.0        0.0        0.0   \n",
       "1        0.0        0.0        0.0  ...        1.0        0.0        0.0   \n",
       "2        0.0        0.0        0.0  ...        3.0        0.0        0.0   \n",
       "3        1.0        0.0        0.0  ...        0.0        0.0        1.0   \n",
       "4        0.0        0.0        0.0  ...        0.0        0.0        0.0   \n",
       "\n",
       "   pixel_7_2  pixel_7_3  pixel_7_4  pixel_7_5  pixel_7_6  pixel_7_7  target  \n",
       "0        3.0       12.0       14.0       11.0        0.0        0.0       1  \n",
       "1        4.0       11.0       13.0       16.0       11.0        0.0       9  \n",
       "2        5.0       15.0       16.0       16.0       12.0        1.0       9  \n",
       "3       10.0       14.0        2.0        0.0        0.0        0.0       5  \n",
       "4        1.0       10.0       14.0       15.0        2.0        0.0       9  \n",
       "\n",
       "[5 rows x 66 columns]"
      ],
      "text/html": "<div>\n<style scoped>\n    .dataframe tbody tr th:only-of-type {\n        vertical-align: middle;\n    }\n\n    .dataframe tbody tr th {\n        vertical-align: top;\n    }\n\n    .dataframe thead th {\n        text-align: right;\n    }\n</style>\n<table border=\"1\" class=\"dataframe\">\n  <thead>\n    <tr style=\"text-align: right;\">\n      <th></th>\n      <th>index</th>\n      <th>pixel_0_0</th>\n      <th>pixel_0_1</th>\n      <th>pixel_0_2</th>\n      <th>pixel_0_3</th>\n      <th>pixel_0_4</th>\n      <th>pixel_0_5</th>\n      <th>pixel_0_6</th>\n      <th>pixel_0_7</th>\n      <th>pixel_1_0</th>\n      <th>...</th>\n      <th>pixel_6_7</th>\n      <th>pixel_7_0</th>\n      <th>pixel_7_1</th>\n      <th>pixel_7_2</th>\n      <th>pixel_7_3</th>\n      <th>pixel_7_4</th>\n      <th>pixel_7_5</th>\n      <th>pixel_7_6</th>\n      <th>pixel_7_7</th>\n      <th>target</th>\n    </tr>\n  </thead>\n  <tbody>\n    <tr>\n      <th>0</th>\n      <td>667</td>\n      <td>0.0</td>\n      <td>0.0</td>\n      <td>4.0</td>\n      <td>16.0</td>\n      <td>15.0</td>\n      <td>4.0</td>\n      <td>0.0</td>\n      <td>0.0</td>\n      <td>0.0</td>\n      <td>...</td>\n      <td>0.0</td>\n      <td>0.0</td>\n      <td>0.0</td>\n      <td>3.0</td>\n      <td>12.0</td>\n      <td>14.0</td>\n      <td>11.0</td>\n      <td>0.0</td>\n      <td>0.0</td>\n      <td>1</td>\n    </tr>\n    <tr>\n      <th>1</th>\n      <td>971</td>\n      <td>0.0</td>\n      <td>0.0</td>\n      <td>5.0</td>\n      <td>15.0</td>\n      <td>14.0</td>\n      <td>3.0</td>\n      <td>0.0</td>\n      <td>0.0</td>\n      <td>0.0</td>\n      <td>...</td>\n      <td>1.0</td>\n      <td>0.0</td>\n      <td>0.0</td>\n      <td>4.0</td>\n      <td>11.0</td>\n      <td>13.0</td>\n      <td>16.0</td>\n      <td>11.0</td>\n      <td>0.0</td>\n      <td>9</td>\n    </tr>\n    <tr>\n      <th>2</th>\n      <td>914</td>\n      <td>0.0</td>\n      <td>0.0</td>\n      <td>7.0</td>\n      <td>14.0</td>\n      <td>9.0</td>\n      <td>0.0</td>\n      <td>0.0</td>\n      <td>0.0</td>\n      <td>0.0</td>\n      <td>...</td>\n      <td>3.0</td>\n      <td>0.0</td>\n      <td>0.0</td>\n      <td>5.0</td>\n      <td>15.0</td>\n      <td>16.0</td>\n      <td>16.0</td>\n      <td>12.0</td>\n      <td>1.0</td>\n      <td>9</td>\n    </tr>\n    <tr>\n      <th>3</th>\n      <td>1702</td>\n      <td>0.0</td>\n      <td>0.0</td>\n      <td>7.0</td>\n      <td>11.0</td>\n      <td>13.0</td>\n      <td>8.0</td>\n      <td>1.0</td>\n      <td>0.0</td>\n      <td>0.0</td>\n      <td>...</td>\n      <td>0.0</td>\n      <td>0.0</td>\n      <td>1.0</td>\n      <td>10.0</td>\n      <td>14.0</td>\n      <td>2.0</td>\n      <td>0.0</td>\n      <td>0.0</td>\n      <td>0.0</td>\n      <td>5</td>\n    </tr>\n    <tr>\n      <th>4</th>\n      <td>1356</td>\n      <td>0.0</td>\n      <td>0.0</td>\n      <td>0.0</td>\n      <td>12.0</td>\n      <td>14.0</td>\n      <td>5.0</td>\n      <td>0.0</td>\n      <td>0.0</td>\n      <td>0.0</td>\n      <td>...</td>\n      <td>0.0</td>\n      <td>0.0</td>\n      <td>0.0</td>\n      <td>1.0</td>\n      <td>10.0</td>\n      <td>14.0</td>\n      <td>15.0</td>\n      <td>2.0</td>\n      <td>0.0</td>\n      <td>9</td>\n    </tr>\n  </tbody>\n</table>\n<p>5 rows × 66 columns</p>\n</div>"
     },
     "metadata": {},
     "execution_count": 53
    }
   ],
   "source": [
    "df_test =pd.read_csv('../static/data/digits_test.csv')\n",
    "df_test.head()"
   ]
  },
  {
   "cell_type": "code",
   "execution_count": 54,
   "metadata": {},
   "outputs": [
    {
     "output_type": "execute_result",
     "data": {
      "text/plain": [
       "((1347, 64), (1347,))"
      ]
     },
     "metadata": {},
     "execution_count": 54
    }
   ],
   "source": [
    "#정규화\n",
    "y_train = df_train.target.values\n",
    "\n",
    "scaler = MinMaxScaler()\n",
    "X_train = scaler.fit_transform(df_train.drop(columns='target', axis=1))\n",
    "X_train.shape, y_train.shape"
   ]
  },
  {
   "cell_type": "code",
   "execution_count": 55,
   "metadata": {},
   "outputs": [
    {
     "output_type": "execute_result",
     "data": {
      "text/plain": [
       "((450, 64), (450,))"
      ]
     },
     "metadata": {},
     "execution_count": 55
    }
   ],
   "source": [
    "#테스트도 진행  df_test\n",
    "y_test = df_test.target.values\n",
    "\n",
    "X_test = scaler.fit_transform(df_test.drop(columns=['index','target'], axis=1))\n",
    "X_test.shape, y_test.shape"
   ]
  },
  {
   "cell_type": "code",
   "execution_count": 56,
   "metadata": {},
   "outputs": [
    {
     "output_type": "execute_result",
     "data": {
      "text/plain": [
       "['../static/model/digits_scaler.pkl']"
      ]
     },
     "metadata": {},
     "execution_count": 56
    }
   ],
   "source": [
    "joblib.dump(scaler, '../static/model/digits_scaler.pkl')"
   ]
  },
  {
   "cell_type": "code",
   "execution_count": null,
   "metadata": {},
   "outputs": [],
   "source": [
    "#손글씨 데이터의 양이 유방암데이터보다 3배정도 많은것 같다.->파라메터설정을 더 나누어서 해보자!"
   ]
  },
  {
   "source": [
    "1. Logistic Regression"
   ],
   "cell_type": "markdown",
   "metadata": {}
  },
  {
   "cell_type": "code",
   "execution_count": 12,
   "metadata": {},
   "outputs": [
    {
     "output_type": "execute_result",
     "data": {
      "text/plain": [
       "{'C': 1.0,\n",
       " 'class_weight': None,\n",
       " 'dual': False,\n",
       " 'fit_intercept': True,\n",
       " 'intercept_scaling': 1,\n",
       " 'l1_ratio': None,\n",
       " 'max_iter': 100,\n",
       " 'multi_class': 'auto',\n",
       " 'n_jobs': None,\n",
       " 'penalty': 'l2',\n",
       " 'random_state': None,\n",
       " 'solver': 'lbfgs',\n",
       " 'tol': 0.0001,\n",
       " 'verbose': 0,\n",
       " 'warm_start': False}"
      ]
     },
     "metadata": {},
     "execution_count": 12
    }
   ],
   "source": [
    "lr_clf = LogisticRegression()\n",
    "lr_clf.get_params()"
   ]
  },
  {
   "cell_type": "code",
   "execution_count": 17,
   "metadata": {},
   "outputs": [],
   "source": [
    "params = {\n",
    "    'C': [0.1, 1, 2,3, 5, 7, 10]  \n",
    "}"
   ]
  },
  {
   "cell_type": "code",
   "execution_count": 18,
   "metadata": {},
   "outputs": [
    {
     "output_type": "stream",
     "name": "stdout",
     "text": [
      "최고 평균 정확도: 0.9673\n최적 파라미터: {'C': 2}\n"
     ]
    }
   ],
   "source": [
    "grid_cv = GridSearchCV(lr_clf, param_grid=params, scoring='accuracy', cv=5)\n",
    "grid_cv.fit(X_train, y_train)\n",
    "print(f'최고 평균 정확도: {grid_cv.best_score_:.4f}')\n",
    "print('최적 파라미터:', grid_cv.best_params_)"
   ]
  },
  {
   "cell_type": "code",
   "execution_count": 19,
   "metadata": {},
   "outputs": [
    {
     "output_type": "execute_result",
     "data": {
      "text/plain": [
       "0.9666666666666667"
      ]
     },
     "metadata": {},
     "execution_count": 19
    }
   ],
   "source": [
    "best_lr = grid_cv.best_estimator_\n",
    "pred = best_lr.predict(X_test)\n",
    "accuracy_score(y_test, pred)"
   ]
  },
  {
   "cell_type": "code",
   "execution_count": 20,
   "metadata": {},
   "outputs": [
    {
     "output_type": "execute_result",
     "data": {
      "text/plain": [
       "['../static/model/digits_lr.pkl']"
      ]
     },
     "metadata": {},
     "execution_count": 20
    }
   ],
   "source": [
    "joblib.dump(best_lr, '../static/model/digits_lr.pkl')"
   ]
  },
  {
   "source": [
    "2. SVM"
   ],
   "cell_type": "markdown",
   "metadata": {}
  },
  {
   "cell_type": "code",
   "execution_count": 21,
   "metadata": {},
   "outputs": [
    {
     "output_type": "execute_result",
     "data": {
      "text/plain": [
       "{'C': 1.0,\n",
       " 'break_ties': False,\n",
       " 'cache_size': 200,\n",
       " 'class_weight': None,\n",
       " 'coef0': 0.0,\n",
       " 'decision_function_shape': 'ovr',\n",
       " 'degree': 3,\n",
       " 'gamma': 'scale',\n",
       " 'kernel': 'rbf',\n",
       " 'max_iter': -1,\n",
       " 'probability': False,\n",
       " 'random_state': None,\n",
       " 'shrinking': True,\n",
       " 'tol': 0.001,\n",
       " 'verbose': False}"
      ]
     },
     "metadata": {},
     "execution_count": 21
    }
   ],
   "source": [
    "sv_clf = SVC()\n",
    "sv_clf.get_params()"
   ]
  },
  {
   "cell_type": "code",
   "execution_count": 22,
   "metadata": {},
   "outputs": [],
   "source": [
    "params = {\n",
    "    #'C': [0.1, 1, 5, 7, 10]\n",
    "    'C': [  5, 6, 7, 8, 9]\n",
    "}\n",
    "#유방암에서 최적이 7이였으니까...."
   ]
  },
  {
   "cell_type": "code",
   "execution_count": 23,
   "metadata": {},
   "outputs": [
    {
     "output_type": "stream",
     "name": "stdout",
     "text": [
      "최고 평균 정확도: 0.9933\n최적 파라미터: {'C': 5}\n"
     ]
    }
   ],
   "source": [
    "grid_cv = GridSearchCV(sv_clf, param_grid=params, scoring='accuracy', cv=5)\n",
    "grid_cv.fit(X_train, y_train)\n",
    "print(f'최고 평균 정확도: {grid_cv.best_score_:.4f}')\n",
    "print('최적 파라미터:', grid_cv.best_params_)"
   ]
  },
  {
   "cell_type": "code",
   "execution_count": 24,
   "metadata": {},
   "outputs": [
    {
     "output_type": "execute_result",
     "data": {
      "text/plain": [
       "0.9844444444444445"
      ]
     },
     "metadata": {},
     "execution_count": 24
    }
   ],
   "source": [
    "best_sv = grid_cv.best_estimator_\n",
    "pred = best_sv.predict(X_test)\n",
    "accuracy_score(y_test, pred)"
   ]
  },
  {
   "cell_type": "code",
   "execution_count": 25,
   "metadata": {},
   "outputs": [
    {
     "output_type": "execute_result",
     "data": {
      "text/plain": [
       "['../static/model/digits_sv.pkl']"
      ]
     },
     "metadata": {},
     "execution_count": 25
    }
   ],
   "source": [
    "joblib.dump(best_sv, '../static/model/digits_sv.pkl')"
   ]
  },
  {
   "source": [
    "3. Random Forest"
   ],
   "cell_type": "markdown",
   "metadata": {}
  },
  {
   "cell_type": "code",
   "execution_count": 26,
   "metadata": {},
   "outputs": [
    {
     "output_type": "execute_result",
     "data": {
      "text/plain": [
       "{'bootstrap': True,\n",
       " 'ccp_alpha': 0.0,\n",
       " 'class_weight': None,\n",
       " 'criterion': 'gini',\n",
       " 'max_depth': None,\n",
       " 'max_features': 'auto',\n",
       " 'max_leaf_nodes': None,\n",
       " 'max_samples': None,\n",
       " 'min_impurity_decrease': 0.0,\n",
       " 'min_impurity_split': None,\n",
       " 'min_samples_leaf': 1,\n",
       " 'min_samples_split': 2,\n",
       " 'min_weight_fraction_leaf': 0.0,\n",
       " 'n_estimators': 100,\n",
       " 'n_jobs': None,\n",
       " 'oob_score': False,\n",
       " 'random_state': None,\n",
       " 'verbose': 0,\n",
       " 'warm_start': False}"
      ]
     },
     "metadata": {},
     "execution_count": 26
    }
   ],
   "source": [
    "from sklearn.ensemble import RandomForestClassifier\n",
    "rf_clf = RandomForestClassifier()\n",
    "rf_clf.get_params()"
   ]
  },
  {
   "cell_type": "code",
   "execution_count": 29,
   "metadata": {},
   "outputs": [],
   "source": [
    "params = {\n",
    "   \n",
    "    'max_depth': [6, 8, 12, 14, 16],\n",
    "    #'max_depth': [14, 16, 18, 20],\n",
    "    'min_samples_split': [2, 3, 4],\n",
    "    'n_estimators': [10,50,100, 150] \n",
    "}\n",
    "#유방암\n",
    "#params = { 'n_estimators': [10, 50, 100], 'max_depth': [4, 6, 8, 10], 'min_samples_split': [2, 3, 4]}\n",
    "#최적 파라미터: {'max_depth': 6, 'min_samples_split': 3, 'n_estimators': 100}"
   ]
  },
  {
   "cell_type": "code",
   "execution_count": 30,
   "metadata": {},
   "outputs": [
    {
     "output_type": "stream",
     "name": "stdout",
     "text": [
      "최고 평균 정확도: 0.9748\n최적 파라미터: {'max_depth': 12, 'min_samples_split': 2, 'n_estimators': 150}\n"
     ]
    }
   ],
   "source": [
    "grid_cv = GridSearchCV(rf_clf, param_grid=params, scoring='accuracy', cv=5)\n",
    "grid_cv.fit(X_train, y_train)\n",
    "print(f'최고 평균 정확도: {grid_cv.best_score_:.4f}')\n",
    "print('최적 파라미터:', grid_cv.best_params_)"
   ]
  },
  {
   "cell_type": "code",
   "execution_count": 31,
   "metadata": {},
   "outputs": [
    {
     "output_type": "execute_result",
     "data": {
      "text/plain": [
       "0.9688888888888889"
      ]
     },
     "metadata": {},
     "execution_count": 31
    }
   ],
   "source": [
    "best_rf = grid_cv.best_estimator_\n",
    "pred = best_rf.predict(X_test)\n",
    "accuracy_score(y_test, pred)"
   ]
  },
  {
   "cell_type": "code",
   "execution_count": 32,
   "metadata": {},
   "outputs": [
    {
     "output_type": "execute_result",
     "data": {
      "text/plain": [
       "['../static/model/digits_rf.pkl']"
      ]
     },
     "metadata": {},
     "execution_count": 32
    }
   ],
   "source": [
    "joblib.dump(best_rf, '../static/model/digits_rf.pkl')"
   ]
  },
  {
   "cell_type": "code",
   "execution_count": 35,
   "metadata": {},
   "outputs": [
    {
     "output_type": "execute_result",
     "data": {
      "text/plain": [
       "(450, 64)"
      ]
     },
     "metadata": {},
     "execution_count": 35
    }
   ],
   "source": [
    "index = 101\n",
    "scaled_test = scaler.fit_transform(df_test.drop(columns=['index','target'], axis=1))\n",
    "scaled_test.shape"
   ]
  },
  {
   "cell_type": "code",
   "execution_count": 36,
   "metadata": {},
   "outputs": [
    {
     "output_type": "execute_result",
     "data": {
      "text/plain": [
       "(5, 64)"
      ]
     },
     "metadata": {},
     "execution_count": 36
    }
   ],
   "source": [
    "test_data = scaled_test[index:index+5, :]\n",
    "test_data.shape"
   ]
  },
  {
   "cell_type": "code",
   "execution_count": 38,
   "metadata": {},
   "outputs": [
    {
     "output_type": "execute_result",
     "data": {
      "text/plain": [
       "(450, 450)"
      ]
     },
     "metadata": {},
     "execution_count": 38
    }
   ],
   "source": [
    "img_index_list = df_test['index'].values\n",
    "target_index_list = df_test['target'].values\n",
    "len(img_index_list), len(target_index_list)"
   ]
  },
  {
   "cell_type": "code",
   "execution_count": 39,
   "metadata": {},
   "outputs": [
    {
     "output_type": "execute_result",
     "data": {
      "text/plain": [
       "array([8, 0, 0, 3, 1], dtype=int64)"
      ]
     },
     "metadata": {},
     "execution_count": 39
    }
   ],
   "source": [
    "label_list = target_index_list[index:index+5]\n",
    "label_list"
   ]
  },
  {
   "cell_type": "code",
   "execution_count": 41,
   "metadata": {},
   "outputs": [],
   "source": [
    "pred_lr = best_lr.predict(test_data)\n",
    "pred_sv = best_sv.predict(test_data)\n",
    "pred_rf = best_rf.predict(test_data)"
   ]
  },
  {
   "cell_type": "code",
   "execution_count": 42,
   "metadata": {},
   "outputs": [],
   "source": [
    "index_list = img_index_list[index:index+5]"
   ]
  },
  {
   "cell_type": "code",
   "execution_count": 43,
   "metadata": {},
   "outputs": [],
   "source": [
    "result_dict = {'index':index_list, 'label':label_list,\n",
    "               'pred_lr':pred_lr, 'pred_sv':pred_sv, 'pred_rf':pred_rf}"
   ]
  },
  {
   "cell_type": "code",
   "execution_count": 44,
   "metadata": {},
   "outputs": [
    {
     "output_type": "execute_result",
     "data": {
      "text/plain": [
       "{'index': array([1781,   10,   48,  865,   93], dtype=int64),\n",
       " 'label': array([8, 0, 0, 3, 1], dtype=int64),\n",
       " 'pred_lr': array([8, 0, 0, 3, 1], dtype=int64),\n",
       " 'pred_sv': array([8, 0, 0, 3, 1], dtype=int64),\n",
       " 'pred_rf': array([8, 0, 0, 3, 1], dtype=int64)}"
      ]
     },
     "metadata": {},
     "execution_count": 44
    }
   ],
   "source": [
    "\n",
    "result_dict"
   ]
  },
  {
   "cell_type": "code",
   "execution_count": 45,
   "metadata": {},
   "outputs": [],
   "source": [
    "img_file_wo_ext = '../static/img/digit'"
   ]
  },
  {
   "cell_type": "code",
   "execution_count": 46,
   "metadata": {},
   "outputs": [
    {
     "output_type": "display_data",
     "data": {
      "text/plain": "<Figure size 144x144 with 1 Axes>",
      "image/svg+xml": "<?xml version=\"1.0\" encoding=\"utf-8\" standalone=\"no\"?>\r\n<!DOCTYPE svg PUBLIC \"-//W3C//DTD SVG 1.1//EN\"\r\n  \"http://www.w3.org/Graphics/SVG/1.1/DTD/svg11.dtd\">\r\n<!-- Created with matplotlib (https://matplotlib.org/) -->\r\n<svg height=\"126.62pt\" version=\"1.1\" viewBox=\"0 0 126.62 126.62\" width=\"126.62pt\" xmlns=\"http://www.w3.org/2000/svg\" xmlns:xlink=\"http://www.w3.org/1999/xlink\">\r\n <defs>\r\n  <style type=\"text/css\">\r\n*{stroke-linecap:butt;stroke-linejoin:round;}\r\n  </style>\r\n </defs>\r\n <g id=\"figure_1\">\r\n  <g id=\"patch_1\">\r\n   <path d=\"M 0 126.62 \r\nL 126.62 126.62 \r\nL 126.62 0 \r\nL 0 0 \r\nz\r\n\" style=\"fill:none;\"/>\r\n  </g>\r\n  <g id=\"axes_1\">\r\n   <g id=\"patch_2\">\r\n    <path d=\"M 10.7 115.92 \r\nL 119.42 115.92 \r\nL 119.42 7.2 \r\nL 10.7 7.2 \r\nz\r\n\" style=\"fill:#ffffff;\"/>\r\n   </g>\r\n   <g clip-path=\"url(#p88e2ca0b15)\">\r\n    <image height=\"109\" id=\"imagefc20e88157\" transform=\"scale(1 -1)translate(0 -109)\" width=\"109\" x=\"10.7\" xlink:href=\"data:image/png;base64,\r\niVBORw0KGgoAAAANSUhEUgAAAG0AAABtCAYAAACr+O9WAAAABHNCSVQICAgIfAhkiAAAAe9JREFUeJzt3EGNwlAURuEymT04gDrACUioBFAAEloJdUAd1AEWQAE46CiApH86LznJ+fY3t+TkbR5NV9M0TVXg/X7PnmmaJllVDcMwe2a9Xke72raN5tLflvgptkmLMRqQ0YCMBmQ0IKMBGQ3IaEBGAzIakNGAjAZkNKBVesuf3IanN+jH43H2zDiO0a7H41FsbrPZRLs8aUBGAzIakNGAjAZkNCCjARkNyGhARgMyGpDRgOIL4+RV7eTit6qq6vV6zZ653W7RrtPpFM0lr8mnPGlARgMyGpDRgIwGZDQgowEZDchoQEYDMhqQ0YCMBhTf8id2u12pVfEr1+kzpv8qJDxpQEYDMhqQ0YCMBmQ0IKMBGQ3IaEBGAzIakNGAjAZU9JY//fjL+Xxe+Ek+u9/v0dx+v1/4ST7zpAEZDchoQEYDMhqQ0YCMBmQ0IKMBGQ3IaEBGA/otuSz9EndJz+czmvPCWF8ZDchoQEYDMhqQ0YCMBmQ0IKMBGQ3IaEBGAzIaUPxaeHJjX9d1sipyuVyiuev1uuyD/ANPGpDRgIwGZDQgowEZDchoQEYDMhqQ0YCMBmQ0oKLfEWmaJprr+372zHa7jXZ1XRfNHQ6HaC7hSQMyGpDRgIwGZDQgowEZDchoQEYDMhqQ0YCMBmQ0oD9Ab1iN5HXwiwAAAABJRU5ErkJggg==\" y=\"-6.92\"/>\r\n   </g>\r\n   <g id=\"matplotlib.axis_1\"/>\r\n   <g id=\"matplotlib.axis_2\"/>\r\n   <g id=\"patch_3\">\r\n    <path d=\"M 10.7 115.92 \r\nL 10.7 7.2 \r\n\" style=\"fill:none;stroke:#000000;stroke-linecap:square;stroke-linejoin:miter;stroke-width:0.8;\"/>\r\n   </g>\r\n   <g id=\"patch_4\">\r\n    <path d=\"M 119.42 115.92 \r\nL 119.42 7.2 \r\n\" style=\"fill:none;stroke:#000000;stroke-linecap:square;stroke-linejoin:miter;stroke-width:0.8;\"/>\r\n   </g>\r\n   <g id=\"patch_5\">\r\n    <path d=\"M 10.7 115.92 \r\nL 119.42 115.92 \r\n\" style=\"fill:none;stroke:#000000;stroke-linecap:square;stroke-linejoin:miter;stroke-width:0.8;\"/>\r\n   </g>\r\n   <g id=\"patch_6\">\r\n    <path d=\"M 10.7 7.2 \r\nL 119.42 7.2 \r\n\" style=\"fill:none;stroke:#000000;stroke-linecap:square;stroke-linejoin:miter;stroke-width:0.8;\"/>\r\n   </g>\r\n  </g>\r\n </g>\r\n <defs>\r\n  <clipPath id=\"p88e2ca0b15\">\r\n   <rect height=\"108.72\" width=\"108.72\" x=\"10.7\" y=\"7.2\"/>\r\n  </clipPath>\r\n </defs>\r\n</svg>\r\n",
      "image/png": "[encoded data removed]"
     },
     "metadata": {}
    },
    {
     "output_type": "display_data",
     "data": {
      "text/plain": "<Figure size 144x144 with 1 Axes>",
      "image/svg+xml": "<?xml version=\"1.0\" encoding=\"utf-8\" standalone=\"no\"?>\r\n<!DOCTYPE svg PUBLIC \"-//W3C//DTD SVG 1.1//EN\"\r\n  \"http://www.w3.org/Graphics/SVG/1.1/DTD/svg11.dtd\">\r\n<!-- Created with matplotlib (https://matplotlib.org/) -->\r\n<svg height=\"126.62pt\" version=\"1.1\" viewBox=\"0 0 126.62 126.62\" width=\"126.62pt\" xmlns=\"http://www.w3.org/2000/svg\" xmlns:xlink=\"http://www.w3.org/1999/xlink\">\r\n <defs>\r\n  <style type=\"text/css\">\r\n*{stroke-linecap:butt;stroke-linejoin:round;}\r\n  </style>\r\n </defs>\r\n <g id=\"figure_1\">\r\n  <g id=\"patch_1\">\r\n   <path d=\"M 0 126.62 \r\nL 126.62 126.62 \r\nL 126.62 0 \r\nL 0 0 \r\nz\r\n\" style=\"fill:none;\"/>\r\n  </g>\r\n  <g id=\"axes_1\">\r\n   <g id=\"patch_2\">\r\n    <path d=\"M 10.7 115.92 \r\nL 119.42 115.92 \r\nL 119.42 7.2 \r\nL 10.7 7.2 \r\nz\r\n\" style=\"fill:#ffffff;\"/>\r\n   </g>\r\n   <g clip-path=\"url(#p2aa95182d2)\">\r\n    <image height=\"109\" id=\"imagea7198b54aa\" transform=\"scale(1 -1)translate(0 -109)\" width=\"109\" x=\"10.7\" xlink:href=\"data:image/png;base64,\r\niVBORw0KGgoAAAANSUhEUgAAAG0AAABtCAYAAACr+O9WAAAABHNCSVQICAgIfAhkiAAAAddJREFUeJzt3UGNhDAcRvGy2TtIQAIOBgdYQAISkDI4wAIORgoOuuc98mXT5GXf7/5PM3nppTSdrtZaSyP3fUdz27Y9nvl8PtFa7/c7mpumKZpLfDVbSX/GaEBGAzIakNGAjAZkNCCjARkNyGhARgMyGpDRgLqWp/zzPLdaqozj2GytUvKvAwl3GpDRgIwGZDQgowEZDchoQEYDMhqQ0YCMBmQ0oO90MLnifV1XtNZ5no9nXq9XtNa6rtFccg09vUruTgMyGpDRgIwGZDQgowEZDchoQEYDMhqQ0YCMBmQ0oPiUP31cJdH3/eOZYRiitdKT9+RLhKf8/4jRgIwGZDQgowEZDchoQEYDMhqQ0YCMBmQ0IKMBxaf8LZ8012/uNCCjARkNyGhARgMyGpDRgIwGZDQgowEZDchoQE0ff0klL3GnL5O3/F0pdxqQ0YCMBmQ0IKMBGQ3IaEBGAzIakNGAjAZkNCCjAcWn/Ml/bi7LEq11HMfjmfQ/QZNHXEopZd/3aC7hTgMyGpDRgIwGZDQgowEZDchoQEYDMhqQ0YCMBtTVWmurxdIr18lhbHKVvJT8Onl60JxwpwEZDchoQEYDMhqQ0YCMBmQ0IKMBGQ3IaEBGAzIa0A8eNEPDWQHmugAAAABJRU5ErkJggg==\" y=\"-6.92\"/>\r\n   </g>\r\n   <g id=\"matplotlib.axis_1\"/>\r\n   <g id=\"matplotlib.axis_2\"/>\r\n   <g id=\"patch_3\">\r\n    <path d=\"M 10.7 115.92 \r\nL 10.7 7.2 \r\n\" style=\"fill:none;stroke:#000000;stroke-linecap:square;stroke-linejoin:miter;stroke-width:0.8;\"/>\r\n   </g>\r\n   <g id=\"patch_4\">\r\n    <path d=\"M 119.42 115.92 \r\nL 119.42 7.2 \r\n\" style=\"fill:none;stroke:#000000;stroke-linecap:square;stroke-linejoin:miter;stroke-width:0.8;\"/>\r\n   </g>\r\n   <g id=\"patch_5\">\r\n    <path d=\"M 10.7 115.92 \r\nL 119.42 115.92 \r\n\" style=\"fill:none;stroke:#000000;stroke-linecap:square;stroke-linejoin:miter;stroke-width:0.8;\"/>\r\n   </g>\r\n   <g id=\"patch_6\">\r\n    <path d=\"M 10.7 7.2 \r\nL 119.42 7.2 \r\n\" style=\"fill:none;stroke:#000000;stroke-linecap:square;stroke-linejoin:miter;stroke-width:0.8;\"/>\r\n   </g>\r\n  </g>\r\n </g>\r\n <defs>\r\n  <clipPath id=\"p2aa95182d2\">\r\n   <rect height=\"108.72\" width=\"108.72\" x=\"10.7\" y=\"7.2\"/>\r\n  </clipPath>\r\n </defs>\r\n</svg>\r\n",
      "image/png": "[encoded data removed]"
     },
     "metadata": {}
    },
    {
     "output_type": "display_data",
     "data": {
      "text/plain": "<Figure size 144x144 with 1 Axes>",
      "image/svg+xml": "<?xml version=\"1.0\" encoding=\"utf-8\" standalone=\"no\"?>\r\n<!DOCTYPE svg PUBLIC \"-//W3C//DTD SVG 1.1//EN\"\r\n  \"http://www.w3.org/Graphics/SVG/1.1/DTD/svg11.dtd\">\r\n<!-- Created with matplotlib (https://matplotlib.org/) -->\r\n<svg height=\"126.62pt\" version=\"1.1\" viewBox=\"0 0 126.62 126.62\" width=\"126.62pt\" xmlns=\"http://www.w3.org/2000/svg\" xmlns:xlink=\"http://www.w3.org/1999/xlink\">\r\n <defs>\r\n  <style type=\"text/css\">\r\n*{stroke-linecap:butt;stroke-linejoin:round;}\r\n  </style>\r\n </defs>\r\n <g id=\"figure_1\">\r\n  <g id=\"patch_1\">\r\n   <path d=\"M 0 126.62 \r\nL 126.62 126.62 \r\nL 126.62 0 \r\nL 0 0 \r\nz\r\n\" style=\"fill:none;\"/>\r\n  </g>\r\n  <g id=\"axes_1\">\r\n   <g id=\"patch_2\">\r\n    <path d=\"M 10.7 115.92 \r\nL 119.42 115.92 \r\nL 119.42 7.2 \r\nL 10.7 7.2 \r\nz\r\n\" style=\"fill:#ffffff;\"/>\r\n   </g>\r\n   <g clip-path=\"url(#p03b425c3d1)\">\r\n    <image height=\"109\" id=\"image36d355e2af\" transform=\"scale(1 -1)translate(0 -109)\" width=\"109\" x=\"10.7\" xlink:href=\"data:image/png;base64,\r\niVBORw0KGgoAAAANSUhEUgAAAG0AAABtCAYAAACr+O9WAAAABHNCSVQICAgIfAhkiAAAAehJREFUeJzt3VGNhDAYReHOZgQgAQlIwAFIQMqMA3CABCQgAQkjYRywDjbpzabJSc73/qcPJ30pTXnc932XRs7zjOZer1f1zHVd0VrrukZzy7JEc4mfZivp3xgNyGhARgMyGpDRgIwGZDQgowEZDchoQEYDMhrQo+Upf9/30dwwDNUz8zxHayVfFEopZdu26plpmqK13GlARgMyGpDRgIwGZDQgowEZDchoQEYDMhqQ0YCe6WBy7fr7/UZr7ftePdN1XbRWcjhdSn7lPeFOAzIakNGAjAZkNCCjARkNyGhARgMyGpDRgIwGZDSg+JT/OI7qmfTk/fP5VM+kp/Xpl4h0LuFOAzIakNGAjAZkNCCjARkNyGhARgMyGpDRgIwGZDSg+JR/HMfqmff7Ha2VfFFIT/nTLxEtudOAjAZkNCCjARkNyGhARgMyGpDRgIwGZDQgowHFB8YtD1bTV8YT6T9BkwdqUu40IKMBGQ3IaEBGAzIakNGAjAZkNCCjARkNyGhARgNq+k/QZVmiueRaeHJtvZT8qXYff9GfjAZkNCCjARkNyGhARgMyGpDRgIwGZDQgowE1PTBOXv0uJXsTJL1Knl7vTt8tSbjTgIwGZDQgowEZDchoQEYDMhqQ0YCMBmQ0IKMBGQ3oF+O9TTJOX9XqAAAAAElFTkSuQmCC\" y=\"-6.92\"/>\r\n   </g>\r\n   <g id=\"matplotlib.axis_1\"/>\r\n   <g id=\"matplotlib.axis_2\"/>\r\n   <g id=\"patch_3\">\r\n    <path d=\"M 10.7 115.92 \r\nL 10.7 7.2 \r\n\" style=\"fill:none;stroke:#000000;stroke-linecap:square;stroke-linejoin:miter;stroke-width:0.8;\"/>\r\n   </g>\r\n   <g id=\"patch_4\">\r\n    <path d=\"M 119.42 115.92 \r\nL 119.42 7.2 \r\n\" style=\"fill:none;stroke:#000000;stroke-linecap:square;stroke-linejoin:miter;stroke-width:0.8;\"/>\r\n   </g>\r\n   <g id=\"patch_5\">\r\n    <path d=\"M 10.7 115.92 \r\nL 119.42 115.92 \r\n\" style=\"fill:none;stroke:#000000;stroke-linecap:square;stroke-linejoin:miter;stroke-width:0.8;\"/>\r\n   </g>\r\n   <g id=\"patch_6\">\r\n    <path d=\"M 10.7 7.2 \r\nL 119.42 7.2 \r\n\" style=\"fill:none;stroke:#000000;stroke-linecap:square;stroke-linejoin:miter;stroke-width:0.8;\"/>\r\n   </g>\r\n  </g>\r\n </g>\r\n <defs>\r\n  <clipPath id=\"p03b425c3d1\">\r\n   <rect height=\"108.72\" width=\"108.72\" x=\"10.7\" y=\"7.2\"/>\r\n  </clipPath>\r\n </defs>\r\n</svg>\r\n",
      "image/png": "[encoded data removed]"
     },
     "metadata": {}
    },
    {
     "output_type": "display_data",
     "data": {
      "text/plain": "<Figure size 144x144 with 1 Axes>",
      "image/svg+xml": "<?xml version=\"1.0\" encoding=\"utf-8\" standalone=\"no\"?>\r\n<!DOCTYPE svg PUBLIC \"-//W3C//DTD SVG 1.1//EN\"\r\n  \"http://www.w3.org/Graphics/SVG/1.1/DTD/svg11.dtd\">\r\n<!-- Created with matplotlib (https://matplotlib.org/) -->\r\n<svg height=\"126.62pt\" version=\"1.1\" viewBox=\"0 0 126.62 126.62\" width=\"126.62pt\" xmlns=\"http://www.w3.org/2000/svg\" xmlns:xlink=\"http://www.w3.org/1999/xlink\">\r\n <defs>\r\n  <style type=\"text/css\">\r\n*{stroke-linecap:butt;stroke-linejoin:round;}\r\n  </style>\r\n </defs>\r\n <g id=\"figure_1\">\r\n  <g id=\"patch_1\">\r\n   <path d=\"M 0 126.62 \r\nL 126.62 126.62 \r\nL 126.62 0 \r\nL 0 0 \r\nz\r\n\" style=\"fill:none;\"/>\r\n  </g>\r\n  <g id=\"axes_1\">\r\n   <g id=\"patch_2\">\r\n    <path d=\"M 10.7 115.92 \r\nL 119.42 115.92 \r\nL 119.42 7.2 \r\nL 10.7 7.2 \r\nz\r\n\" style=\"fill:#ffffff;\"/>\r\n   </g>\r\n   <g clip-path=\"url(#p7b869676d5)\">\r\n    <image height=\"109\" id=\"image3b7fd275f8\" transform=\"scale(1 -1)translate(0 -109)\" width=\"109\" x=\"10.7\" xlink:href=\"data:image/png;base64,\r\niVBORw0KGgoAAAANSUhEUgAAAG0AAABtCAYAAACr+O9WAAAABHNCSVQICAgIfAhkiAAAAeJJREFUeJzt3FGNg0AYReHpZgVUAhLAAQ4qAQmVQOsACa0SJICESsAB66DZuWnYPcn53v8Mycm8TKdz2vd9L4F1XatnpmlKlirP5zOaS4zjGM3dbrfPfsgbX4etpI8xGpDRgIwGZDQgowEZDchoQEYDMhqQ0YCMBmQ0oFN6yr9tW/XM6/VKlipN01TPpL8o3O/3aG6e5+qZvu+jtdxpQEYDMhqQ0YCMBmQ0IKMBGQ3IaEBGAzIakNGA4gPj/y65tl5KKV3XRXMeGOstowEZDchoQEYDMhqQ0YCMBmQ0IKMBGQ3IaEBGA/r+6w/4jeSKd3otfBiGaC49sU+404CMBmQ0IKMBGQ3IaEBGAzIakNGAjAZkNCCjARkN6NC7/MmDMaWU0rZt9cz5fI7WSv8DcCR3GpDRgIwGZDQgowEZDchoQEYDMhqQ0YCMBmQ0IMTjL8khbvqIy7Is0VxyqJ1ypwEZDchoQEYDMhqQ0YCMBmQ0IKMBGQ3IaEBGAzIaUPz4y5En7+M4RnOJ9Or6kdxpQEYDMhqQ0YCMBmQ0IKMBGQ3IaEBGAzIakNGA4gPjpmmqZy6XS7TW4/Gonrler9FaR17vTrnTgIwGZDQgowEZDchoQEYDMhqQ0YCMBmQ0IKMBGQ3oB255TV/1hMEDAAAAAElFTkSuQmCC\" y=\"-6.92\"/>\r\n   </g>\r\n   <g id=\"matplotlib.axis_1\"/>\r\n   <g id=\"matplotlib.axis_2\"/>\r\n   <g id=\"patch_3\">\r\n    <path d=\"M 10.7 115.92 \r\nL 10.7 7.2 \r\n\" style=\"fill:none;stroke:#000000;stroke-linecap:square;stroke-linejoin:miter;stroke-width:0.8;\"/>\r\n   </g>\r\n   <g id=\"patch_4\">\r\n    <path d=\"M 119.42 115.92 \r\nL 119.42 7.2 \r\n\" style=\"fill:none;stroke:#000000;stroke-linecap:square;stroke-linejoin:miter;stroke-width:0.8;\"/>\r\n   </g>\r\n   <g id=\"patch_5\">\r\n    <path d=\"M 10.7 115.92 \r\nL 119.42 115.92 \r\n\" style=\"fill:none;stroke:#000000;stroke-linecap:square;stroke-linejoin:miter;stroke-width:0.8;\"/>\r\n   </g>\r\n   <g id=\"patch_6\">\r\n    <path d=\"M 10.7 7.2 \r\nL 119.42 7.2 \r\n\" style=\"fill:none;stroke:#000000;stroke-linecap:square;stroke-linejoin:miter;stroke-width:0.8;\"/>\r\n   </g>\r\n  </g>\r\n </g>\r\n <defs>\r\n  <clipPath id=\"p7b869676d5\">\r\n   <rect height=\"108.72\" width=\"108.72\" x=\"10.7\" y=\"7.2\"/>\r\n  </clipPath>\r\n </defs>\r\n</svg>\r\n",
      "image/png": "[encoded data removed]"
     },
     "metadata": {}
    },
    {
     "output_type": "display_data",
     "data": {
      "text/plain": "<Figure size 144x144 with 1 Axes>",
      "image/svg+xml": "<?xml version=\"1.0\" encoding=\"utf-8\" standalone=\"no\"?>\r\n<!DOCTYPE svg PUBLIC \"-//W3C//DTD SVG 1.1//EN\"\r\n  \"http://www.w3.org/Graphics/SVG/1.1/DTD/svg11.dtd\">\r\n<!-- Created with matplotlib (https://matplotlib.org/) -->\r\n<svg height=\"126.62pt\" version=\"1.1\" viewBox=\"0 0 126.62 126.62\" width=\"126.62pt\" xmlns=\"http://www.w3.org/2000/svg\" xmlns:xlink=\"http://www.w3.org/1999/xlink\">\r\n <defs>\r\n  <style type=\"text/css\">\r\n*{stroke-linecap:butt;stroke-linejoin:round;}\r\n  </style>\r\n </defs>\r\n <g id=\"figure_1\">\r\n  <g id=\"patch_1\">\r\n   <path d=\"M 0 126.62 \r\nL 126.62 126.62 \r\nL 126.62 0 \r\nL 0 0 \r\nz\r\n\" style=\"fill:none;\"/>\r\n  </g>\r\n  <g id=\"axes_1\">\r\n   <g id=\"patch_2\">\r\n    <path d=\"M 10.7 115.92 \r\nL 119.42 115.92 \r\nL 119.42 7.2 \r\nL 10.7 7.2 \r\nz\r\n\" style=\"fill:#ffffff;\"/>\r\n   </g>\r\n   <g clip-path=\"url(#p37ce18f8d5)\">\r\n    <image height=\"109\" id=\"image962a27f16a\" transform=\"scale(1 -1)translate(0 -109)\" width=\"109\" x=\"10.7\" xlink:href=\"data:image/png;base64,\r\niVBORw0KGgoAAAANSUhEUgAAAG0AAABtCAYAAACr+O9WAAAABHNCSVQICAgIfAhkiAAAAaZJREFUeJzt3cFpQkEUQNEkpCBL0Eq0E7USsQPtwA60BTuwA7PNJiR/CD85cM/+MQOXtxnh+/p8Pp8v/9xut5s8s9/vh87abrdDcyN3HPU220n5NUUDFQ1UNFDRQEUDFQ1UNFDRQEUDFQ1UNFDRQO9/fYGfuN1us5212WxmO2tUmwYqGqhooKKBigYqGqhooKKBigYqGqhooKKBejAGtWmgooGKBioaqGigooGKBioaqGigooGKBioaqGig4Vf+8/k8eeZ6vY4el0/aNFDRQEUDFQ1UNFDRQEUDFQ1UNFDRQEUDFQ1UNNDwK//hcJg8M/LLwNwej8dfX+FbbRqoaKCigYoGKhqoaKCigYoGKhqoaKCigYoGGn4wPp1Ok2cul8vQWavVamhuxP1+H5pbLBa/fJOvtWmgooGKBioaqGigooGKBioaqGigooGKBioaqGigWT/xvlwuh+bW6/XkmePxOHSWoE0DFQ1UNFDRQEUDFQ1UNFDRQEUDFQ1UNFDRQMR/ggrf9phTmwYqGqhooKKBigYqGqhooKKBigYqGqhooKKBigb6AHx4KvpWNL7rAAAAAElFTkSuQmCC\" y=\"-6.92\"/>\r\n   </g>\r\n   <g id=\"matplotlib.axis_1\"/>\r\n   <g id=\"matplotlib.axis_2\"/>\r\n   <g id=\"patch_3\">\r\n    <path d=\"M 10.7 115.92 \r\nL 10.7 7.2 \r\n\" style=\"fill:none;stroke:#000000;stroke-linecap:square;stroke-linejoin:miter;stroke-width:0.8;\"/>\r\n   </g>\r\n   <g id=\"patch_4\">\r\n    <path d=\"M 119.42 115.92 \r\nL 119.42 7.2 \r\n\" style=\"fill:none;stroke:#000000;stroke-linecap:square;stroke-linejoin:miter;stroke-width:0.8;\"/>\r\n   </g>\r\n   <g id=\"patch_5\">\r\n    <path d=\"M 10.7 115.92 \r\nL 119.42 115.92 \r\n\" style=\"fill:none;stroke:#000000;stroke-linecap:square;stroke-linejoin:miter;stroke-width:0.8;\"/>\r\n   </g>\r\n   <g id=\"patch_6\">\r\n    <path d=\"M 10.7 7.2 \r\nL 119.42 7.2 \r\n\" style=\"fill:none;stroke:#000000;stroke-linecap:square;stroke-linejoin:miter;stroke-width:0.8;\"/>\r\n   </g>\r\n  </g>\r\n </g>\r\n <defs>\r\n  <clipPath id=\"p37ce18f8d5\">\r\n   <rect height=\"108.72\" width=\"108.72\" x=\"10.7\" y=\"7.2\"/>\r\n  </clipPath>\r\n </defs>\r\n</svg>\r\n",
      "image/png": "[encoded data removed]"
     },
     "metadata": {}
    }
   ],
   "source": [
    "for k, i in enumerate(index_list):\n",
    "    plt.figure(figsize=(2,2))\n",
    "    plt.xticks([]); plt.yticks([])\n",
    "    img_file = img_file_wo_ext + str(k+1) + '.png'\n",
    "    plt.imshow(digits.images[i], cmap=plt.cm.binary, interpolation='nearest')\n",
    "    plt.savefig(img_file)"
   ]
  },
  {
   "cell_type": "code",
   "execution_count": null,
   "metadata": {},
   "outputs": [],
   "source": []
  }
 ]
}